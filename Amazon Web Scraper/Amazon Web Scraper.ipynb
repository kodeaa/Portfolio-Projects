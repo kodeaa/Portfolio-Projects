{
  "nbformat": 4,
  "nbformat_minor": 0,
  "metadata": {
    "colab": {
      "name": "Amazon Web Scraper.ipynb",
      "provenance": [],
      "collapsed_sections": []
    },
    "kernelspec": {
      "name": "python3",
      "display_name": "Python 3"
    },
    "language_info": {
      "name": "python"
    }
  },
  "cells": [
    {
      "cell_type": "code",
      "metadata": {
        "id": "2M_89uqduC2Q"
      },
      "source": [
        "# import libraries \n",
        "\n",
        "from bs4 import BeautifulSoup\n",
        "import requests\n",
        "import time\n",
        "import datetime\n",
        "\n",
        "import pandas as pd\n",
        "\n",
        "import smtplib"
      ],
      "execution_count": null,
      "outputs": []
    },
    {
      "cell_type": "code",
      "metadata": {
        "colab": {
          "base_uri": "https://localhost:8080/"
        },
        "id": "vPGEqbI5uJy2",
        "outputId": "2ae99ecd-e330-45f9-d0e2-cf7d79525465"
      },
      "source": [
        "# Connect to Website and pull in data\n",
        "\n",
        "URL = 'https://www.amazon.com/OMEN-GeForce-i7-10750H-Keyboard-15-dh1019nr/dp/B08DRW2R3Z/ref=sr_1_3?dchild=1&keywords=hp+omen&qid=1630205527&rnid=2941120011&s=pc&sr=1-3'\n",
        "\n",
        "headers = {\"User-Agent\": \"Mozilla/5.0 (Windows NT 10.0; Win64; x64) AppleWebKit/537.36 (KHTML, like Gecko) Chrome/78.0.3904.108 Safari/537.36\", \"Accept-Encoding\":\"gzip, deflate\", \"Accept\":\"text/html,application/xhtml+xml,application/xml;q=0.9,*/*;q=0.8\", \"DNT\":\"1\",\"Connection\":\"close\", \"Upgrade-Insecure-Requests\":\"1\"}\n",
        "\n",
        "page = requests.get(URL, headers=headers)\n",
        "\n",
        "soup1 = BeautifulSoup(page.content, \"html.parser\")\n",
        "\n",
        "soup2 = BeautifulSoup(soup1.prettify(), \"html.parser\")\n",
        "\n",
        "title = soup2.find(id='productTitle').get_text()\n",
        "\n",
        "price = soup2.find(id='priceblock_ourprice').get_text()\n",
        "\n",
        "\n",
        "print(title)\n",
        "print(price)"
      ],
      "execution_count": null,
      "outputs": [
        {
          "output_type": "stream",
          "text": [
            "\n",
            "     OMEN 15 Gaming Laptop, NVIDIA GeForce RTX 2070 Super Max-Q, Intel Core i7-10750H, 32 GB DDR4 RAM, 512 GB PCIe NVMe SSD, 15.6\" Full HD 300Hz, Windows 10 Home, RGB Keyboard (15-dh1019nr, 2020 Model)\n",
            "    \n",
            "\n",
            "        $1,985.00\n",
            "       \n"
          ],
          "name": "stdout"
        }
      ]
    },
    {
      "cell_type": "code",
      "metadata": {
        "colab": {
          "base_uri": "https://localhost:8080/"
        },
        "id": "wV-aLWeT01Uf",
        "outputId": "0d866677-f559-4cc0-ac10-ead293ad7b3a"
      },
      "source": [
        "# Clean up the data a little bit\n",
        "\n",
        "price = price.strip()[1:]\n",
        "title = title.strip()\n",
        "\n",
        "print(title)\n",
        "print(price)"
      ],
      "execution_count": null,
      "outputs": [
        {
          "output_type": "stream",
          "text": [
            "OMEN 15 Gaming Laptop, NVIDIA GeForce RTX 2070 Super Max-Q, Intel Core i7-10750H, 32 GB DDR4 RAM, 512 GB PCIe NVMe SSD, 15.6\" Full HD 300Hz, Windows 10 Home, RGB Keyboard (15-dh1019nr, 2020 Model)\n",
            "1,985.00\n"
          ],
          "name": "stdout"
        }
      ]
    },
    {
      "cell_type": "code",
      "metadata": {
        "colab": {
          "base_uri": "https://localhost:8080/"
        },
        "id": "YMb1Au6906K5",
        "outputId": "640bc99f-a64c-46ad-aca1-8faaf41baa2e"
      },
      "source": [
        "# Create a Timestamp for your output to track when data was collected\n",
        "\n",
        "today = datetime.date.today()\n",
        "print(today)"
      ],
      "execution_count": null,
      "outputs": [
        {
          "output_type": "stream",
          "text": [
            "2021-08-29\n"
          ],
          "name": "stdout"
        }
      ]
    },
    {
      "cell_type": "code",
      "metadata": {
        "id": "LyO_TMnc0_tR"
      },
      "source": [
        "# Create CSV and write headers and data into the file\n",
        "\n",
        "import csv \n",
        "\n",
        "header = ['Title', 'Price', 'Date']\n",
        "data = [title, price, today]\n",
        "\n",
        "\n",
        "with open('AmazonWebScraperDataset.csv', 'w', newline='', encoding='UTF8') as f:\n",
        "    writer = csv.writer(f)\n",
        "    writer.writerow(header)\n",
        "    writer.writerow(data)"
      ],
      "execution_count": null,
      "outputs": []
    },
    {
      "cell_type": "code",
      "metadata": {
        "colab": {
          "base_uri": "https://localhost:8080/"
        },
        "id": "vHJxu01i1MjB",
        "outputId": "97cd2688-4278-4df4-d74a-1ffe0a13538b"
      },
      "source": [
        "df = pd.read_csv('/content/AmazonWebScraperDataset.csv')\n",
        "print(df)"
      ],
      "execution_count": null,
      "outputs": [
        {
          "output_type": "stream",
          "text": [
            "                                               Title     Price        Date\n",
            "0  OMEN 15 Gaming Laptop, NVIDIA GeForce RTX 2070...  1,985.00  2021-08-29\n"
          ],
          "name": "stdout"
        }
      ]
    },
    {
      "cell_type": "code",
      "metadata": {
        "id": "lwtoOoHL1X1C"
      },
      "source": [
        "# Appending data to the csv\n",
        "\n",
        "with open('AmazonWebScraperDataset.csv', 'a+', newline='', encoding='UTF8') as f:\n",
        "    writer = csv.writer(f)\n",
        "    writer.writerow(data)"
      ],
      "execution_count": null,
      "outputs": []
    },
    {
      "cell_type": "markdown",
      "metadata": {
        "id": "MWQu9pBa4u5m"
      },
      "source": [
        "# Make It a Function"
      ]
    },
    {
      "cell_type": "code",
      "metadata": {
        "id": "CiX7uo1y1bC3"
      },
      "source": [
        "#Combine all of the above code into one function\n",
        "\n",
        "\n",
        "def check_price():\n",
        "    URL = 'https://www.amazon.com/OMEN-GeForce-i7-10750H-Keyboard-15-dh1019nr/dp/B08DRW2R3Z/ref=sr_1_3?dchild=1&keywords=hp+omen&qid=1630205527&rnid=2941120011&s=pc&sr=1-3'\n",
        "\n",
        "    headers = {\"User-Agent\": \"Mozilla/5.0 (Windows NT 10.0; Win64; x64) AppleWebKit/537.36 (KHTML, like Gecko) Chrome/78.0.3904.108 Safari/537.36\", \"Accept-Encoding\":\"gzip, deflate\", \"Accept\":\"text/html,application/xhtml+xml,application/xml;q=0.9,*/*;q=0.8\", \"DNT\":\"1\",\"Connection\":\"close\", \"Upgrade-Insecure-Requests\":\"1\"}\n",
        "\n",
        "    page = requests.get(URL, headers=headers)\n",
        "\n",
        "    soup1 = BeautifulSoup(page.content, \"html.parser\")\n",
        "\n",
        "    soup2 = BeautifulSoup(soup1.prettify(), \"html.parser\")\n",
        "\n",
        "    title = soup2.find(id='productTitle').get_text()\n",
        "\n",
        "    price = soup2.find(id='priceblock_ourprice').get_text()\n",
        "\n",
        "    price = price.strip()[1:]\n",
        "    title = title.strip()\n",
        "\n",
        "    import datetime\n",
        "\n",
        "    today = datetime.date.today()\n",
        "    \n",
        "    import csv \n",
        "\n",
        "    header = ['Title', 'Price', 'Date']\n",
        "    data = [title, price, today]\n",
        "\n",
        "    with open('AmazonWebScraperDataset.csv', 'a+', newline='', encoding='UTF8') as f:\n",
        "        writer = csv.writer(f)\n",
        "        writer.writerow(data)"
      ],
      "execution_count": null,
      "outputs": []
    },
    {
      "cell_type": "code",
      "metadata": {
        "id": "VahhSjqE1i2h"
      },
      "source": [
        "# Runs check_price after a set time and inputs data into your CSV\n",
        "\n",
        "while(True):\n",
        "    check_price()\n",
        "    time.sleep(5)"
      ],
      "execution_count": null,
      "outputs": []
    },
    {
      "cell_type": "code",
      "metadata": {
        "colab": {
          "base_uri": "https://localhost:8080/"
        },
        "id": "o5LCKEQl1uC3",
        "outputId": "1253121a-94f9-41c9-add1-bea05d95a671"
      },
      "source": [
        "df = pd.read_csv('/content/AmazonWebScraperDataset.csv')\n",
        "print(df)"
      ],
      "execution_count": null,
      "outputs": [
        {
          "output_type": "stream",
          "text": [
            "                                                 Title     Price        Date\n",
            "0    OMEN 15 Gaming Laptop, NVIDIA GeForce RTX 2070...  1,985.00  2021-08-29\n",
            "1    OMEN 15 Gaming Laptop, NVIDIA GeForce RTX 2070...  1,985.00  2021-08-29\n",
            "2    OMEN 15 Gaming Laptop, NVIDIA GeForce RTX 2070...  1,985.00  2021-08-29\n",
            "3    OMEN 15 Gaming Laptop, NVIDIA GeForce RTX 2070...  1,985.00  2021-08-29\n",
            "4    OMEN 15 Gaming Laptop, NVIDIA GeForce RTX 2070...  1,985.00  2021-08-29\n",
            "..                                                 ...       ...         ...\n",
            "104  OMEN 15 Gaming Laptop, NVIDIA GeForce RTX 2070...  1,985.00  2021-08-29\n",
            "105  OMEN 15 Gaming Laptop, NVIDIA GeForce RTX 2070...  1,985.00  2021-08-29\n",
            "106  OMEN 15 Gaming Laptop, NVIDIA GeForce RTX 2070...  1,985.00  2021-08-29\n",
            "107  OMEN 15 Gaming Laptop, NVIDIA GeForce RTX 2070...  1,985.00  2021-08-29\n",
            "108  OMEN 15 Gaming Laptop, NVIDIA GeForce RTX 2070...  1,985.00  2021-08-29\n",
            "\n",
            "[109 rows x 3 columns]\n"
          ],
          "name": "stdout"
        }
      ]
    }
  ]
}